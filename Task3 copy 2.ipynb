{
 "cells": [
  {
   "cell_type": "markdown",
   "id": "fa38d25d",
   "metadata": {},
   "source": [
    "# Task3. Neural networks"
   ]
  },
  {
   "attachments": {},
   "cell_type": "markdown",
   "id": "d8eb8c25",
   "metadata": {},
   "source": [
    "Цели лабораторной работы:\n",
    "\n",
    "Научиться моделировать нейронной сети типа перцептрон.\n",
    "\n",
    "The process begins by taking all the input values and multiplying them by their weights. Then, all of these multiplied values are added together to create the weighted sum. The weighted sum is then applied to the activation function, producing the perceptron's output. The activation function plays the integral role of ensuring the output is mapped between required values such as (0,1) or (-1,1). It is important to note that the weight of an input is indicative of the strength of a node. Similarly, an input's bias value gives the ability to shift the activation function curve up or down.\n",
    "\n",
    "Найти достаточное количество скрытых слоев и количество нейронов в сети для обучения в задачах аппроксимации математических функций.\n",
    "\n",
    "Произвести оценку полученных результатов на тестовой выборке.\n"
   ]
  },
  {
   "cell_type": "markdown",
   "id": "183fab7b",
   "metadata": {},
   "source": [
    "# Задание 5.\n",
    "\n",
    "Смоделировать и обучить нейросеть, аппроксимирующую функцию y = cos(x) + x на отрезке от -5 до 5. Произвести оценку полученных результатов на тестовой выборке."
   ]
  },
  {
   "cell_type": "markdown",
   "id": "01c0dbe2",
   "metadata": {},
   "source": [
    "# Вывод\n",
    "В результате лабораторной работы был разработан многоуровневый персептрон. Такие сети используются для задач классификации и регрессии. \n",
    "Наша ИНС способна проводить аппроксимацию функции cos(x)+x. Для начала создали обучающую выборку на 200 элементов, после чего построили нейронную сеть из 4 скрытых слоев c 15 нейронами на каждом. Сеть проходит 55 итераций обучения с шагом обучения 0.0015, после чего построим на графике обычную функцию cos(x)+x и отметим точки с значениями из получившейся модели, на основании которых можно построить график для аппроксимирующей функции. "
   ]
  },
  {
   "cell_type": "code",
   "execution_count": 10,
   "id": "93d0a66e",
   "metadata": {},
   "outputs": [],
   "source": [
    "import os\n",
    "import numpy as np\n",
    "os.environ['TF_CPP_MIN_LOG_LEVEL'] = '2'\n",
    " \n",
    "import tensorflow as tf\n",
    "\n",
    "class DenseNN(tf.Module):\n",
    "    def __init__(self, outputs, actf):\n",
    "        super().__init__()\n",
    "        self.outputs = outputs\n",
    "        self.fl_init = False\n",
    "        self.actf = actf\n",
    " \n",
    "    def __call__(self, x):\n",
    "        if not self.fl_init:\n",
    "            self.w = tf.random.truncated_normal((x.shape[-1], self.outputs), stddev=0.1, name=\"w\")\n",
    "            \n",
    "            self.w2 = tf.random.truncated_normal((x.shape[-1], self.outputs), stddev=0.1, name=\"w2\")\n",
    "            \n",
    "            self.w = tf.Variable(self.w)\n",
    "            self.w2 = tf.Variable(self.w2)\n",
    " \n",
    "            self.fl_init = True\n",
    "    \n",
    "        \n",
    "        if self.actf == \"summ\":\n",
    "             y = x @ self.w + (0 * self.w2)\n",
    "             y = tf.reduce_sum(y)  \n",
    "             return y\n",
    "    \n",
    "        elif self.actf == \"sigmoid\":\n",
    "             y = x @ self.w + (1.0 * self.w2)\n",
    "        #нелинейная ф-я активации\n",
    "             y = tf.nn.sigmoid(y)\n",
    "             return y"
   ]
  },
  {
   "cell_type": "code",
   "execution_count": 11,
   "id": "aa6763cb",
   "metadata": {},
   "outputs": [],
   "source": [
    "import math\n",
    "import matplotlib.pyplot as plt\n",
    "\n",
    "l1 = DenseNN(15, actf=\"sigmoid\")\n",
    "l2 = DenseNN(15, actf=\"sigmoid\")\n",
    "l3 = DenseNN(15, actf=\"sigmoid\")\n",
    "l4 = DenseNN(15, actf=\"sigmoid\")\n",
    "l5 = DenseNN(1, actf=\"summ\")\n",
    "\n",
    "def model(x):\n",
    "    y = l1(x)\n",
    "    y = l2(y)\n",
    "    y = l3(y)\n",
    "    y = l4(y)\n",
    "    y = l5(y)\n",
    "\n",
    "    return y\n",
    "\n",
    "# Evenly spaced values on a range, return float\n",
    "x = np.arange(-5, 5, 0.05,  dtype='f')\n",
    "x_train = tf.constant(x)\n",
    "\n",
    "y_train = tf.math.cos(x) + x\n",
    "\n",
    "# loss function\n",
    "loss = lambda x, y: tf.reduce_mean(tf.square(x - y))\n",
    "\n",
    "# learning rate\n",
    "opt = tf.optimizers.Adam(learning_rate=0.0015)\n",
    "\n",
    "# iterations\n",
    "EPOCHS = 55\n",
    "# learning by gradient climbing\n",
    "for n in range(EPOCHS):\n",
    "    for x, y in zip(x_train, y_train):\n",
    "        x = tf.expand_dims(x, axis=0)\n",
    "        x = tf.constant(x, shape=(1, 1))\n",
    "        y = tf.constant(y, shape=(1, 1))\n",
    " \n",
    "        with tf.GradientTape() as tape:\n",
    "            f_loss = loss(y, model(x))\n",
    " \n",
    "        grads = tape.gradient(f_loss, [l1.trainable_variables, l2.trainable_variables, l3.trainable_variables, l4.trainable_variables, l5.trainable_variables])\n",
    "    \n",
    "        opt.apply_gradients(zip(grads[0], l1.trainable_variables))\n",
    "        opt.apply_gradients(zip(grads[1], l2.trainable_variables))\n",
    "        opt.apply_gradients(zip(grads[2], l3.trainable_variables))\n",
    "        opt.apply_gradients(zip(grads[3], l4.trainable_variables))\n",
    "        opt.apply_gradients(zip(grads[4], l5.trainable_variables))\n",
    "    print(n, end=\" \")"
   ]
  },
  {
   "cell_type": "code",
   "execution_count": 13,
   "id": "1925202a",
   "metadata": {},
   "outputs": [
    {
     "name": "stdout",
     "output_type": "stream",
     "text": [
      "Avg loss tf.Tensor(0.089920655, shape=(), dtype=float32)\n"
     ]
    },
    {
     "data": {
      "image/png": "[encoded data removed]",
      "text/plain": [
       "<Figure size 640x480 with 1 Axes>"
      ]
     },
     "metadata": {},
     "output_type": "display_data"
    }
   ],
   "source": [
    "# ideal graph\n",
    "plt.plot(x_train, y_train)\n",
    "\n",
    "\n",
    "x_test_arr = []\n",
    "y_test_arr = []\n",
    "\n",
    "i = -5.0\n",
    "step = 0.1\n",
    "    \n",
    "plt.tight_layout()\n",
    "\n",
    "sum_loss = 0\n",
    "total = 0\n",
    "    \n",
    "while(i <= 5.0):\n",
    "    # print(i, model(tf.constant([[i]])))\n",
    "    res = model(tf.constant([[i]]))\n",
    "    x_test_arr.append(i)\n",
    "    y_test_arr.append(res)\n",
    "    i +=step\n",
    "    sum_loss += loss(math.cos(i) + i, res)\n",
    "    total += 1\n",
    "\n",
    "print(\"Avg loss\", sum_loss / total)\n",
    "\n",
    "plt.scatter(x_test_arr, y_test_arr, c='r')\n",
    "plt.show()"
   ]
  }
 ],
 "metadata": {
  "kernelspec": {
   "display_name": "Python 3.9.13 ('base')",
   "language": "python",
   "name": "python3"
  },
  "language_info": {
   "codemirror_mode": {
    "name": "ipython",
    "version": 3
   },
   "file_extension": ".py",
   "mimetype": "text/x-python",
   "name": "python",
   "nbconvert_exporter": "python",
   "pygments_lexer": "ipython3",
   "version": "3.9.13"
  },
  "vscode": {
   "interpreter": {
    "hash": "ad2bdc8ecc057115af97d19610ffacc2b4e99fae6737bb82f5d7fb13d2f2c186"
   }
  }
 },
 "nbformat": 4,
 "nbformat_minor": 5
}
