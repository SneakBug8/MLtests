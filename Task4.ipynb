{
 "cells": [
  {
   "cell_type": "markdown",
   "id": "efc2ffb7",
   "metadata": {},
   "source": [
    "# Task 4."
   ]
  },
  {
   "cell_type": "markdown",
   "id": "0d3f1a14",
   "metadata": {},
   "source": [
    "Цели работы:\n",
    "    \n",
    "Научиться моделировать такие временные ряды с помощью нейросетевых моделей, как AR, AR(X). \n",
    "\n",
    "Найти достаточное количество скрытых слоев и количество нейронов в сети для обучения в задачах аппроксимации математических функций.\n",
    "\n",
    "Произвести оценку полученных результатов на тестовой выборке.\n",
    "\n"
   ]
  },
  {
   "cell_type": "markdown",
   "id": "49739f04",
   "metadata": {},
   "source": [
    "\n",
    "# AR - модель:\n",
    "         \n",
    "$y_{t-1}$ $\\rightarrow$ $\\quad$   |  $\\quad$нейронная $\\quad$ |\n",
    "\n",
    "$y_{t-2}$ $\\rightarrow$ $\\quad$   |$\\quad$ $\\quad$   сеть $\\quad$$\\quad$   | $\\rightarrow$ $\\quad$ $y_t$\n",
    "\n",
    "$y_{t-3}$ $\\rightarrow$ $\\quad$   |$\\quad $$\\quad$ $\\quad$$\\quad$$\\quad$$\\quad$|   \n"
   ]
  },
  {
   "cell_type": "markdown",
   "id": "c16bc638",
   "metadata": {},
   "source": [
    "\n",
    "# Задание 1.\n",
    "\n",
    "Реализовать и протестировать AR-модель на функции sin(x/2).\n"
   ]
  },
  {
   "cell_type": "code",
   "execution_count": 6,
   "id": "cf9e1fef",
   "metadata": {},
   "outputs": [],
   "source": [
    "import os\n",
    "import numpy as np\n",
    "os.environ['TF_CPP_MIN_LOG_LEVEL'] = '2'\n",
    " \n",
    "import tensorflow as tf\n",
    "\n",
    "class DenseNN(tf.Module):\n",
    "    def __init__(self, outputs, actf):\n",
    "        super().__init__()\n",
    "        self.outputs = outputs\n",
    "        self.fl_init = False\n",
    "        self.actf = actf\n",
    " \n",
    "    def __call__(self, x):\n",
    "        if not self.fl_init:\n",
    "            # Check why up and equal use Bias with a varying size\n",
    "            # Up and Equal should be the same\n",
    "            self.w = tf.random.truncated_normal((x.shape[-1], self.outputs), stddev=0.1, name=\"w\")\n",
    "            self.w2 = tf.random.truncated_normal((1, self.outputs), stddev=0.1, name=\"w2\")\n",
    "                \n",
    "            self.w = tf.Variable(self.w)\n",
    "            self.w2 = tf.Variable(self.w2)\n",
    " \n",
    "            self.fl_init = True\n",
    "    \n",
    "        \n",
    "        if self.actf == \"summ\":\n",
    "             y = x @ self.w + self.w2\n",
    "             y = tf.reduce_sum(y)  \n",
    "             return y\n",
    "    \n",
    "        elif self.actf == \"sig\":\n",
    "             y = x @ self.w + self.w2\n",
    "             y = tf.nn.sigmoid(y)\n",
    "             return y"
   ]
  },
  {
   "cell_type": "code",
   "execution_count": 7,
   "id": "3ac478bc",
   "metadata": {},
   "outputs": [
    {
     "name": "stdout",
     "output_type": "stream",
     "text": [
      "tf.Tensor(0.0065076416, shape=(), dtype=float32)\n"
     ]
    }
   ],
   "source": [
    "import math\n",
    "import matplotlib.pyplot as plt\n",
    "\n",
    "l1 = DenseNN(3, actf=\"sig\")\n",
    "l2 = DenseNN(30, actf=\"sig\")\n",
    "l3 = DenseNN(30, actf=\"sig\")\n",
    "lf = DenseNN(1, actf=\"summ\")\n",
    "\n",
    "def model(x):\n",
    "    y = l1(x)\n",
    "    y = l2(y)\n",
    "    y = l3(y)\n",
    "    y = lf(y)\n",
    "    return y\n",
    "\n",
    "x_train = []\n",
    "y_train = []\n",
    "\n",
    "# evenly spaced numbers between 0 and 4P, 16 numbers in between\n",
    "# create a trining set\n",
    "a = np.linspace(0, 4*3.14, 16, dtype='f')\n",
    "for i in range(len(a)-3):\n",
    "    # calculate three points\n",
    "    a1 = tf.math.sin(a[i]/2)\n",
    "    a1 = tf.cast(a1, dtype=float)\n",
    "    a2 = tf.math.sin(a[i+1]/2)\n",
    "    a2 = tf.cast(a2, dtype=float)\n",
    "    a3 = tf.math.sin(a[i+2]/2)\n",
    "    a3 = tf.cast(a3, dtype=float)\n",
    "    \n",
    "    aa = a1, a2, a3\n",
    "    aa = tf.cast(aa, dtype=tf.float32)\n",
    "    x_train.append(aa)\n",
    "    yy = tf.math.sin(a[i+3]/2)\n",
    "    yy = tf.cast(yy, dtype=tf.float32)\n",
    "    y_train.append(yy)\n",
    "\n",
    "## loss function\n",
    "loss = lambda x, y: tf.reduce_mean(tf.square(x - y))\n",
    "# optimized algo Adam\n",
    "opt = tf.optimizers.Adam(learning_rate=0.01)\n",
    "\n",
    "EPOCHS = 60\n",
    "for n in range(EPOCHS):\n",
    "    for x, y in zip(x_train, y_train):\n",
    "        x = tf.expand_dims(x, axis=0)\n",
    "        y = tf.constant(y, shape=(1, 1))\n",
    " \n",
    "        with tf.GradientTape() as tape:\n",
    "            f_loss = loss(y, model(x))\n",
    " \n",
    "        grads = tape.gradient(f_loss, [l1.trainable_variables, l2.trainable_variables, l3.trainable_variables])\n",
    "    \n",
    "        opt.apply_gradients(zip(grads[0], l1.trainable_variables))\n",
    "        opt.apply_gradients(zip(grads[1], l2.trainable_variables))\n",
    "        opt.apply_gradients(zip(grads[2], l3.trainable_variables))\n",
    "print(f_loss)"
   ]
  },
  {
   "cell_type": "code",
   "execution_count": 8,
   "id": "bf7a6385",
   "metadata": {},
   "outputs": [
    {
     "data": {
      "image/png": "[encoded data removed]",
      "text/plain": [
       "<Figure size 640x480 with 1 Axes>"
      ]
     },
     "metadata": {},
     "output_type": "display_data"
    }
   ],
   "source": [
    "import numpy as np\n",
    "\n",
    "# 500 points between 0 and 8P\n",
    "a = np.linspace(0, 8*3.14, 500)\n",
    "for i in range(len(a)-3):\n",
    "    plt.scatter(a[i+3], model([[tf.math.sin(a[i]/2), tf.math.sin(a[i+1]/2), tf.math.sin(a[i+2]/2)]]), s = 1, c = 'r')\n",
    "    plt.scatter(a[i+3], tf.math.sin(a[i+3]/2), s = 1, c = 'g')"
   ]
  },
  {
   "cell_type": "markdown",
   "id": "160d666b",
   "metadata": {},
   "source": [
    "В данной лабораторной работе была построена AR (autoregressive) модель нейросети, которая предсказывает направление графика на основе трёх предыдущих точек. Однако, при резких изменениях она недооценивает изменение графика."
   ]
  }
 ],
 "metadata": {
  "kernelspec": {
   "display_name": "Python 3.9.13 ('base')",
   "language": "python",
   "name": "python3"
  },
  "language_info": {
   "codemirror_mode": {
    "name": "ipython",
    "version": 3
   },
   "file_extension": ".py",
   "mimetype": "text/x-python",
   "name": "python",
   "nbconvert_exporter": "python",
   "pygments_lexer": "ipython3",
   "version": "3.9.13"
  },
  "vscode": {
   "interpreter": {
    "hash": "ad2bdc8ecc057115af97d19610ffacc2b4e99fae6737bb82f5d7fb13d2f2c186"
   }
  }
 },
 "nbformat": 4,
 "nbformat_minor": 5
}
