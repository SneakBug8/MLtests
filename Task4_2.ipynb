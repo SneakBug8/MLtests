{
 "cells": [
  {
   "cell_type": "markdown",
   "id": "efc2ffb7",
   "metadata": {},
   "source": [
    "# Task 4."
   ]
  },
  {
   "cell_type": "markdown",
   "id": "0d3f1a14",
   "metadata": {},
   "source": [
    "Цели работы:\n",
    "    \n",
    "Научиться моделировать такие временные ряды с помощью нейросетевых моделей, как AR, AR(X). \n",
    "\n",
    "Найти достаточное количество скрытых слоев и количество нейронов в сети для обучения в задачах аппроксимации математических функций.\n",
    "\n",
    "Произвести оценку полученных результатов на тестовой выборке.\n",
    "\n"
   ]
  },
  {
   "cell_type": "markdown",
   "id": "49739f04",
   "metadata": {},
   "source": [
    "\n",
    "# AR - модель:\n",
    "         \n",
    "$y_{t-1}$ $\\rightarrow$ $\\quad$   |  $\\quad$нейронная $\\quad$ |\n",
    "\n",
    "$y_{t-2}$ $\\rightarrow$ $\\quad$   |$\\quad$ $\\quad$   сеть $\\quad$$\\quad$   | $\\rightarrow$ $\\quad$ $y_t$\n",
    "\n",
    "$y_{t-3}$ $\\rightarrow$ $\\quad$   |$\\quad $$\\quad$ $\\quad$$\\quad$$\\quad$$\\quad$|   \n"
   ]
  },
  {
   "cell_type": "markdown",
   "id": "c16bc638",
   "metadata": {},
   "source": [
    "\n",
    "# Задание 1.\n",
    "\n",
    "Реализовать и протестировать AR-модель на функции sin(x/2).\n"
   ]
  },
  {
   "cell_type": "code",
   "execution_count": 29,
   "id": "cf9e1fef",
   "metadata": {},
   "outputs": [],
   "source": [
    "import os\n",
    "import numpy as np\n",
    "os.environ['TF_CPP_MIN_LOG_LEVEL'] = '2'\n",
    " \n",
    "import tensorflow as tf\n",
    "\n",
    "class DenseNN(tf.Module):\n",
    "    def __init__(self, outputs, actf):\n",
    "        super().__init__()\n",
    "        self.outputs = outputs\n",
    "        self.fl_init = False\n",
    "        self.actf = actf\n",
    " \n",
    "    def __call__(self, x):\n",
    "        if not self.fl_init:\n",
    "            # Check why up and equal use Bias with a varying size\n",
    "            # Up and Equal should be the same\n",
    "            self.w = tf.random.truncated_normal((x.shape[-1], self.outputs), stddev=0.1, name=\"w\")\n",
    "            self.w2 = tf.random.truncated_normal((1, self.outputs), stddev=0.1, name=\"w2\")\n",
    "                \n",
    "            self.w = tf.Variable(self.w)\n",
    "            self.w2 = tf.Variable(self.w2)\n",
    " \n",
    "            self.fl_init = True\n",
    "    \n",
    "        \n",
    "        if self.actf == \"summ\":\n",
    "             y = x @ self.w + self.w2\n",
    "             y = tf.reduce_sum(y)  \n",
    "             return y\n",
    "    \n",
    "        elif self.actf == \"sig\":\n",
    "             y = x @ self.w + self.w2\n",
    "             y = tf.nn.sigmoid(y)\n",
    "             return y"
   ]
  },
  {
   "cell_type": "code",
   "execution_count": 30,
   "id": "3ac478bc",
   "metadata": {},
   "outputs": [
    {
     "name": "stdout",
     "output_type": "stream",
     "text": [
      "tf.Tensor(0.00012377085, shape=(), dtype=float32)\n"
     ]
    }
   ],
   "source": [
    "import math\n",
    "import matplotlib.pyplot as plt\n",
    "\n",
    "l1 = DenseNN(3, actf=\"sig\")\n",
    "l2 = DenseNN(35, actf=\"sig\")\n",
    "l3 = DenseNN(35, actf=\"sig\")\n",
    "l4 = DenseNN(35, actf=\"sig\")\n",
    "lf = DenseNN(1, actf=\"summ\")\n",
    "\n",
    "def model(x):\n",
    "    y = l1(x)\n",
    "    y = l2(y)\n",
    "    y = l3(y)\n",
    "    y = l4(y)\n",
    "    y = lf(y)\n",
    "    return y\n",
    "\n",
    "x_train = []\n",
    "y_train = []\n",
    "\n",
    "# evenly spaced numbers between 0 and 4P, 16 numbers in between\n",
    "# create a trining set\n",
    "a = np.linspace(0, 4*3.14, 32, dtype='f')\n",
    "for i in range(len(a)-3):\n",
    "    # calculate three points\n",
    "    a1 = tf.math.sin(a[i]/2)\n",
    "    a1 = tf.cast(a1, dtype=float)\n",
    "    a2 = tf.math.sin(a[i+1]/2)\n",
    "    a2 = tf.cast(a2, dtype=float)\n",
    "    a3 = tf.math.sin(a[i+2]/2)\n",
    "    a3 = tf.cast(a3, dtype=float)\n",
    "    \n",
    "    aa = a1, a2, a3\n",
    "    aa = tf.cast(aa, dtype=tf.float32)\n",
    "    x_train.append(aa)\n",
    "    yy = tf.math.sin(a[i+3]/2)\n",
    "    yy = tf.cast(yy, dtype=tf.float32)\n",
    "    y_train.append(yy)\n",
    "\n",
    "## loss function\n",
    "loss = lambda x, y: tf.reduce_mean(tf.square(x - y))\n",
    "# optimized algo Adam\n",
    "opt = tf.optimizers.Adam(learning_rate=0.01)\n",
    "\n",
    "EPOCHS = 250\n",
    "for n in range(EPOCHS):\n",
    "    for x, y in zip(x_train, y_train):\n",
    "        x = tf.expand_dims(x, axis=0)\n",
    "        y = tf.constant(y, shape=(1, 1))\n",
    " \n",
    "        with tf.GradientTape() as tape:\n",
    "            f_loss = loss(y, model(x))\n",
    " \n",
    "        grads = tape.gradient(f_loss, [l1.trainable_variables, l2.trainable_variables, l3.trainable_variables, l4.trainable_variables])\n",
    "    \n",
    "        opt.apply_gradients(zip(grads[0], l1.trainable_variables))\n",
    "        opt.apply_gradients(zip(grads[1], l2.trainable_variables))\n",
    "        opt.apply_gradients(zip(grads[2], l3.trainable_variables))\n",
    "        opt.apply_gradients(zip(grads[3], l4.trainable_variables))\n",
    "\n",
    "print(f_loss)"
   ]
  },
  {
   "cell_type": "code",
   "execution_count": 31,
   "id": "bf7a6385",
   "metadata": {},
   "outputs": [
    {
     "name": "stdout",
     "output_type": "stream",
     "text": [
      "[<tf.Tensor: shape=(3,), dtype=float32, numpy=array([0.        , 0.20119788, 0.394167  ], dtype=float32)>, <tf.Tensor: shape=(3,), dtype=float32, numpy=array([0.20119788, 0.394167  , 0.5710152 ], dtype=float32)>, <tf.Tensor: shape=(3,), dtype=float32, numpy=array([0.394167  , 0.5710152 , 0.72450954], dtype=float32)>, <tf.Tensor: shape=(3,), dtype=float32, numpy=array([0.5710152 , 0.72450954, 0.8483724 ], dtype=float32)>, <tf.Tensor: shape=(3,), dtype=float32, numpy=array([0.72450954, 0.8483724 , 0.93753785], dtype=float32)>, <tf.Tensor: shape=(3,), dtype=float32, numpy=array([0.8483724 , 0.93753785, 0.98835915], dtype=float32)>, <tf.Tensor: shape=(3,), dtype=float32, numpy=array([0.93753785, 0.98835915, 0.9987578 ], dtype=float32)>, <tf.Tensor: shape=(3,), dtype=float32, numpy=array([0.98835915, 0.9987578 , 0.9683085 ], dtype=float32)>, <tf.Tensor: shape=(3,), dtype=float32, numpy=array([0.9987578, 0.9683085, 0.8982566], dtype=float32)>, <tf.Tensor: shape=(3,), dtype=float32, numpy=array([0.9683085, 0.8982566, 0.7914671], dtype=float32)>, <tf.Tensor: shape=(3,), dtype=float32, numpy=array([0.8982566, 0.7914671, 0.6523075], dtype=float32)>, <tf.Tensor: shape=(3,), dtype=float32, numpy=array([0.7914671 , 0.6523075 , 0.48646936], dtype=float32)>, <tf.Tensor: shape=(3,), dtype=float32, numpy=array([0.6523075 , 0.48646936, 0.30073544], dtype=float32)>, <tf.Tensor: shape=(3,), dtype=float32, numpy=array([0.48646936, 0.30073544, 0.1027016 ], dtype=float32)>, <tf.Tensor: shape=(3,), dtype=float32, numpy=array([ 0.30073544,  0.1027016 , -0.0995326 ], dtype=float32)>, <tf.Tensor: shape=(3,), dtype=float32, numpy=array([ 0.1027016 , -0.0995326 , -0.29769605], dtype=float32)>, <tf.Tensor: shape=(3,), dtype=float32, numpy=array([-0.0995326 , -0.29769605, -0.4836841 ], dtype=float32)>, <tf.Tensor: shape=(3,), dtype=float32, numpy=array([-0.29769605, -0.4836841 , -0.6498899 ], dtype=float32)>, <tf.Tensor: shape=(3,), dtype=float32, numpy=array([-0.4836841 , -0.6498899 , -0.78951615], dtype=float32)>, <tf.Tensor: shape=(3,), dtype=float32, numpy=array([-0.6498899 , -0.78951615, -0.89685225], dtype=float32)>, <tf.Tensor: shape=(3,), dtype=float32, numpy=array([-0.78951615, -0.89685225, -0.967508  ], dtype=float32)>, <tf.Tensor: shape=(3,), dtype=float32, numpy=array([-0.89685225, -0.967508  , -0.998594  ], dtype=float32)>, <tf.Tensor: shape=(3,), dtype=float32, numpy=array([-0.967508  , -0.998594  , -0.98883873], dtype=float32)>, <tf.Tensor: shape=(3,), dtype=float32, numpy=array([-0.998594  , -0.98883873, -0.9386412 ], dtype=float32)>, <tf.Tensor: shape=(3,), dtype=float32, numpy=array([-0.98883873, -0.9386412 , -0.85005426], dtype=float32)>, <tf.Tensor: shape=(3,), dtype=float32, numpy=array([-0.9386412 , -0.85005426, -0.7267014 ], dtype=float32)>, <tf.Tensor: shape=(3,), dtype=float32, numpy=array([-0.85005426, -0.7267014 , -0.57362735], dtype=float32)>, <tf.Tensor: shape=(3,), dtype=float32, numpy=array([-0.7267014 , -0.57362735, -0.3970923 ], dtype=float32)>, <tf.Tensor: shape=(3,), dtype=float32, numpy=array([-0.57362735, -0.3970923 , -0.2043171 ], dtype=float32)>]\n",
      "[<tf.Tensor: shape=(), dtype=float32, numpy=0.5710152>, <tf.Tensor: shape=(), dtype=float32, numpy=0.72450954>, <tf.Tensor: shape=(), dtype=float32, numpy=0.8483724>, <tf.Tensor: shape=(), dtype=float32, numpy=0.93753785>, <tf.Tensor: shape=(), dtype=float32, numpy=0.98835915>, <tf.Tensor: shape=(), dtype=float32, numpy=0.9987578>, <tf.Tensor: shape=(), dtype=float32, numpy=0.9683085>, <tf.Tensor: shape=(), dtype=float32, numpy=0.8982566>, <tf.Tensor: shape=(), dtype=float32, numpy=0.7914671>, <tf.Tensor: shape=(), dtype=float32, numpy=0.6523075>, <tf.Tensor: shape=(), dtype=float32, numpy=0.48646936>, <tf.Tensor: shape=(), dtype=float32, numpy=0.30073544>, <tf.Tensor: shape=(), dtype=float32, numpy=0.102701604>, <tf.Tensor: shape=(), dtype=float32, numpy=-0.0995326>, <tf.Tensor: shape=(), dtype=float32, numpy=-0.29769605>, <tf.Tensor: shape=(), dtype=float32, numpy=-0.4836841>, <tf.Tensor: shape=(), dtype=float32, numpy=-0.6498899>, <tf.Tensor: shape=(), dtype=float32, numpy=-0.78951615>, <tf.Tensor: shape=(), dtype=float32, numpy=-0.89685225>, <tf.Tensor: shape=(), dtype=float32, numpy=-0.967508>, <tf.Tensor: shape=(), dtype=float32, numpy=-0.998594>, <tf.Tensor: shape=(), dtype=float32, numpy=-0.98883873>, <tf.Tensor: shape=(), dtype=float32, numpy=-0.9386412>, <tf.Tensor: shape=(), dtype=float32, numpy=-0.85005426>, <tf.Tensor: shape=(), dtype=float32, numpy=-0.7267014>, <tf.Tensor: shape=(), dtype=float32, numpy=-0.57362735>, <tf.Tensor: shape=(), dtype=float32, numpy=-0.3970923>, <tf.Tensor: shape=(), dtype=float32, numpy=-0.2043171>, <tf.Tensor: shape=(), dtype=float32, numpy=-0.003185092>]\n"
     ]
    },
    {
     "data": {
      "image/png": "[encoded data removed]",
      "text/plain": [
       "<Figure size 640x480 with 1 Axes>"
      ]
     },
     "metadata": {},
     "output_type": "display_data"
    }
   ],
   "source": [
    "import numpy as np\n",
    "\n",
    "print(x_train)\n",
    "print(y_train)\n",
    "\n",
    "# 500 points between 0 and 8P\n",
    "a = np.linspace(0, 8*3.14, 500)\n",
    "for i in range(len(a)-3):\n",
    "    plt.scatter(a[i+3], model([[tf.math.sin(a[i]/2), tf.math.sin(a[i+1]/2), tf.math.sin(a[i+2]/2)]]), s = 1, c = 'r')\n",
    "    plt.scatter(a[i+3], tf.math.sin(a[i+3]/2), s = 1, c = 'g')"
   ]
  },
  {
   "attachments": {},
   "cell_type": "markdown",
   "id": "160d666b",
   "metadata": {},
   "source": [
    "В данной лабораторной работе была построена AR (autoregressive) модель нейросети, которая предсказывает направление графика на основе трёх предыдущих точек. Однако, при резких изменениях она недооценивает изменение графика. Модель оптимизируется методом градиентного спуска с оптимизатором Adam. Используются три скрытых слоя по 35 нейронов, обучение производится в 250 эпох на 32 точках с learning rate 0.01. При увеличении числа нейронов и/или эпох коэффициенты в нейронах будут расходиться и давать значения с большей амплитудой, приближая синус к 1."
   ]
  },
  {
   "cell_type": "code",
   "execution_count": null,
   "id": "c0f3e6a0",
   "metadata": {},
   "outputs": [],
   "source": []
  }
 ],
 "metadata": {
  "kernelspec": {
   "display_name": "Python 3.9.13 ('base')",
   "language": "python",
   "name": "python3"
  },
  "language_info": {
   "codemirror_mode": {
    "name": "ipython",
    "version": 3
   },
   "file_extension": ".py",
   "mimetype": "text/x-python",
   "name": "python",
   "nbconvert_exporter": "python",
   "pygments_lexer": "ipython3",
   "version": "3.9.13"
  },
  "vscode": {
   "interpreter": {
    "hash": "ad2bdc8ecc057115af97d19610ffacc2b4e99fae6737bb82f5d7fb13d2f2c186"
   }
  }
 },
 "nbformat": 4,
 "nbformat_minor": 5
}
